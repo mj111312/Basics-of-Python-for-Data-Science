{
 "cells": [
  {
   "cell_type": "code",
   "execution_count": 1,
   "metadata": {},
   "outputs": [
    {
     "name": "stdout",
     "output_type": "stream",
     "text": [
      "Hello World !\n"
     ]
    }
   ],
   "source": [
    "print('Hello World !')"
   ]
  },
  {
   "cell_type": "code",
   "execution_count": 3,
   "metadata": {},
   "outputs": [
    {
     "name": "stdout",
     "output_type": "stream",
     "text": [
      "Welocme \n",
      "to\n",
      "this \n",
      "learning !\n"
     ]
    }
   ],
   "source": [
    "# triple quote allow multiple lines\n",
    "\n",
    "print('''Welocme \n",
    "to\n",
    "this \n",
    "learning !''')"
   ]
  },
  {
   "cell_type": "markdown",
   "metadata": {},
   "source": [
    "### NOTE : Python strings are always between quotes (double quotes \"\" or apostrophes ''). There is no difference which one do you use, both will do the same."
   ]
  },
  {
   "cell_type": "code",
   "execution_count": 4,
   "metadata": {},
   "outputs": [
    {
     "name": "stdout",
     "output_type": "stream",
     "text": [
      "23\n"
     ]
    }
   ],
   "source": [
    "print(23)"
   ]
  },
  {
   "cell_type": "markdown",
   "metadata": {},
   "source": [
    "### NOTE : Numbers donot need quotes"
   ]
  },
  {
   "cell_type": "code",
   "execution_count": 6,
   "metadata": {},
   "outputs": [
    {
     "name": "stdout",
     "output_type": "stream",
     "text": [
      "10\n",
      "ten\n"
     ]
    }
   ],
   "source": [
    "a = 10\n",
    "b = 'ten'\n",
    "print(a)\n",
    "print(b)"
   ]
  },
  {
   "cell_type": "markdown",
   "metadata": {},
   "source": [
    "### NOTE : Variables are values held in the memory that can change as the program runs. A variable always has a name( like a or b ) and its value can change."
   ]
  },
  {
   "cell_type": "code",
   "execution_count": 7,
   "metadata": {},
   "outputs": [
    {
     "name": "stdout",
     "output_type": "stream",
     "text": [
      "11\n"
     ]
    }
   ],
   "source": [
    "a = a + 1\n",
    "print(a)"
   ]
  },
  {
   "cell_type": "markdown",
   "metadata": {},
   "source": [
    "### NOTE : You can also mix strings and variables while printing. This is called formatted string. The variable must be inside the curly braces in such a case."
   ]
  },
  {
   "cell_type": "code",
   "execution_count": 8,
   "metadata": {},
   "outputs": [
    {
     "name": "stdout",
     "output_type": "stream",
     "text": [
      "The value of variable a is : 10\n"
     ]
    }
   ],
   "source": [
    "a = 10 \n",
    "print(f'The value of variable a is : {a}')"
   ]
  },
  {
   "cell_type": "markdown",
   "metadata": {},
   "source": [
    "### NOTE : You can also use f-string with math (called expression)"
   ]
  },
  {
   "cell_type": "code",
   "execution_count": 9,
   "metadata": {},
   "outputs": [
    {
     "name": "stdout",
     "output_type": "stream",
     "text": [
      "The value of a plus 5 is : 15\n"
     ]
    }
   ],
   "source": [
    "a = 10\n",
    "print(f'The value of a plus 5 is : {a + 5}')"
   ]
  },
  {
   "cell_type": "markdown",
   "metadata": {},
   "source": [
    "### NOTE : You can perform if statement to perform logic. Notice the indentation. In python that is how you define blocks of code that are executed together. A block usually begins after a colon and then all the lines at the same level of indent will be . the part of the same block."
   ]
  },
  {
   "cell_type": "code",
   "execution_count": 10,
   "metadata": {},
   "outputs": [
    {
     "name": "stdout",
     "output_type": "stream",
     "text": [
      "The variable is not greater than 5\n"
     ]
    }
   ],
   "source": [
    "a = 5 \n",
    "if a > 5 :\n",
    "    print('The variable is greater than 5')\n",
    "else :\n",
    "    print('The variable is not greater than 5')"
   ]
  },
  {
   "cell_type": "code",
   "execution_count": 12,
   "metadata": {},
   "outputs": [
    {
     "name": "stdout",
     "output_type": "stream",
     "text": [
      "The value of variable a is 5\n",
      "The value of variable b is 6\n"
     ]
    }
   ],
   "source": [
    "a = 5 \n",
    "b = 6\n",
    "\n",
    "if a == 5 :\n",
    "    print('The value of variable a is 5')\n",
    "    \n",
    "    if b == 6 :\n",
    "        print('The value of variable b is 6')\n",
    "elif a == 6 :\n",
    "    print('The value of variable a is 6')"
   ]
  },
  {
   "cell_type": "markdown",
   "metadata": {},
   "source": [
    "### NOTE : The above example has if statement at multiple level, this is when indentation has to be taken care properly. Use either tab or space but not both. elif is same as else-if."
   ]
  },
  {
   "cell_type": "code",
   "execution_count": 13,
   "metadata": {},
   "outputs": [
    {
     "name": "stdout",
     "output_type": "stream",
     "text": [
      "1\n",
      "2\n",
      "3\n",
      "4\n",
      "5\n",
      "6\n",
      "7\n",
      "8\n",
      "9\n"
     ]
    }
   ],
   "source": [
    "for x in range(1,10) :\n",
    "    print(x)"
   ]
  },
  {
   "cell_type": "markdown",
   "metadata": {},
   "source": [
    "### NOTE : Printing Numbers and Strings using for loop"
   ]
  },
  {
   "cell_type": "code",
   "execution_count": 14,
   "metadata": {},
   "outputs": [
    {
     "name": "stdout",
     "output_type": "stream",
     "text": [
      "Adding 1, sum so is 1\n",
      "Adding 2, sum so is 3\n",
      "Adding 3, sum so is 6\n",
      "Adding 4, sum so is 10\n",
      "Adding 5, sum so is 15\n",
      "Adding 6, sum so is 21\n",
      "Adding 7, sum so is 28\n",
      "Adding 8, sum so is 36\n",
      "Adding 9, sum so is 45\n",
      "Final sum is : 45\n"
     ]
    }
   ],
   "source": [
    "num = 0\n",
    "\n",
    "for x in range(1,10):\n",
    "    num += x \n",
    "    print(f'Adding {x}, sum so is {num}')\n",
    "print(f'Final sum is : {num}')"
   ]
  },
  {
   "cell_type": "code",
   "execution_count": null,
   "metadata": {},
   "outputs": [],
   "source": []
  }
 ],
 "metadata": {
  "kernelspec": {
   "display_name": "Python 3.6 (tensorflow)",
   "language": "python",
   "name": "tensorflow"
  },
  "language_info": {
   "codemirror_mode": {
    "name": "ipython",
    "version": 3
   },
   "file_extension": ".py",
   "mimetype": "text/x-python",
   "name": "python",
   "nbconvert_exporter": "python",
   "pygments_lexer": "ipython3",
   "version": "3.6.9"
  }
 },
 "nbformat": 4,
 "nbformat_minor": 2
}
